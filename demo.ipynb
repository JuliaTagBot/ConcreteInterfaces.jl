{
 "cells": [
  {
   "cell_type": "markdown",
   "metadata": {},
   "source": [
    "# Introduction\n",
    "\n",
    "The `Interfaces.jl` package makes it easy to create a struct that holds a fixed set of concretely-typed function wrappers. You can use this to, for example, efficiently call a function on a collection of objects of different types without the performance penalty of dynamic dispatch. "
   ]
  },
  {
   "cell_type": "code",
   "execution_count": 1,
   "metadata": {},
   "outputs": [],
   "source": [
    "using BenchmarkTools\n",
    "using Base.Test"
   ]
  },
  {
   "cell_type": "markdown",
   "metadata": {},
   "source": [
    "# Example\n",
    "\n",
    "This is easiest to show with an example. Let's create two concrete types `B` and `C` which both inherit from an abstract type `A` (having an abstract parent isn't necessary for Interfaces.jl to work, but it can be nice). \n",
    "\n",
    "We'll define a function `foo(::A, y::Any)` that acts on any `A` and just adds its `x` field to `y`:"
   ]
  },
  {
   "cell_type": "code",
   "execution_count": 2,
   "metadata": {},
   "outputs": [
    {
     "data": {
      "text/plain": [
       "foo (generic function with 1 method)"
      ]
     },
     "execution_count": 2,
     "metadata": {},
     "output_type": "execute_result"
    }
   ],
   "source": [
    "abstract type A end\n",
    "\n",
    "struct B <: A\n",
    "    x::Int\n",
    "end\n",
    "\n",
    "struct C <: A\n",
    "    x::Float64\n",
    "end\n",
    "\n",
    "foo(a::A, y) = a.x + y"
   ]
  },
  {
   "cell_type": "markdown",
   "metadata": {},
   "source": [
    "We can now create a `B` and a `C` and call the `foo` function on them:"
   ]
  },
  {
   "cell_type": "code",
   "execution_count": 3,
   "metadata": {},
   "outputs": [
    {
     "data": {
      "text/plain": [
       "\u001b[1m\u001b[32mTest Passed\u001b[39m\u001b[22m"
      ]
     },
     "execution_count": 3,
     "metadata": {},
     "output_type": "execute_result"
    }
   ],
   "source": [
    "b = B(1)\n",
    "c = C(2.0)\n",
    "@test foo(b, 2) === 3\n",
    "@test foo(c, 2) === 4.0"
   ]
  },
  {
   "cell_type": "markdown",
   "metadata": {},
   "source": [
    "But because `B` and `C` are different types, if we try to call `foo` on a vector of `B`s and `C`s, it will be slow:"
   ]
  },
  {
   "cell_type": "code",
   "execution_count": 4,
   "metadata": {},
   "outputs": [
    {
     "data": {
      "text/plain": [
       "BenchmarkTools.Trial: \n",
       "  memory estimate:  80 bytes\n",
       "  allocs estimate:  5\n",
       "  --------------\n",
       "  minimum time:     438.717 ns (0.00% GC)\n",
       "  median time:      496.343 ns (0.00% GC)\n",
       "  mean time:        557.289 ns (0.50% GC)\n",
       "  maximum time:     5.196 μs (86.87% GC)\n",
       "  --------------\n",
       "  samples:          10000\n",
       "  evals/sample:     198"
      ]
     },
     "execution_count": 4,
     "metadata": {},
     "output_type": "execute_result"
    }
   ],
   "source": [
    "y = zeros(2)\n",
    "bc = [b, c]\n",
    "@benchmark $y .= foo.($bc, 2.0)"
   ]
  },
  {
   "cell_type": "markdown",
   "metadata": {},
   "source": [
    "Instead, we can define an `interface` which wraps up the `foo` method for a particular set of input and output types:"
   ]
  },
  {
   "cell_type": "code",
   "execution_count": 5,
   "metadata": {},
   "outputs": [],
   "source": [
    "using ConcreteInterfaces"
   ]
  },
  {
   "cell_type": "code",
   "execution_count": 6,
   "metadata": {},
   "outputs": [
    {
     "data": {
      "text/plain": [
       "foo (generic function with 2 methods)"
      ]
     },
     "execution_count": 6,
     "metadata": {},
     "output_type": "execute_result"
    }
   ],
   "source": [
    "@interface FooInterface(self::A) begin\n",
    "    foo(y::Float64)::Float64 = foo(self, y)\n",
    "end"
   ]
  },
  {
   "cell_type": "markdown",
   "metadata": {},
   "source": [
    "We can create a `FooInterface` from any `::A`, and those interfaces will have the *same* type regardless of the specific type of their input:"
   ]
  },
  {
   "cell_type": "code",
   "execution_count": 7,
   "metadata": {},
   "outputs": [
    {
     "data": {
      "text/plain": [
       "\u001b[1m\u001b[32mTest Passed\u001b[39m\u001b[22m"
      ]
     },
     "execution_count": 7,
     "metadata": {},
     "output_type": "execute_result"
    }
   ],
   "source": [
    "i1 = FooInterface(b)\n",
    "i2 = FooInterface(c)\n",
    "@test typeof(i1) === typeof(i2)"
   ]
  },
  {
   "cell_type": "markdown",
   "metadata": {},
   "source": [
    "The `@interface` macro automatically defines the `foo` function for our interfaces:"
   ]
  },
  {
   "cell_type": "code",
   "execution_count": 8,
   "metadata": {},
   "outputs": [
    {
     "data": {
      "text/plain": [
       "3.0"
      ]
     },
     "execution_count": 8,
     "metadata": {},
     "output_type": "execute_result"
    }
   ],
   "source": [
    "@test foo(i1, 2.0) === 3.0\n",
    "\n",
    "# Type inference works just fine for our interfaces, too:\n",
    "@inferred(foo(i1, 2.0))\n",
    "@inferred(i1.foo(2.0))"
   ]
  },
  {
   "cell_type": "markdown",
   "metadata": {},
   "source": [
    "And now we can store a vector of `FooInteface`s and efficiently call the `foo` method on each of them:"
   ]
  },
  {
   "cell_type": "code",
   "execution_count": 9,
   "metadata": {},
   "outputs": [
    {
     "data": {
      "text/plain": [
       "BenchmarkTools.Trial: \n",
       "  memory estimate:  0 bytes\n",
       "  allocs estimate:  0\n",
       "  --------------\n",
       "  minimum time:     17.792 ns (0.00% GC)\n",
       "  median time:      21.870 ns (0.00% GC)\n",
       "  mean time:        24.841 ns (0.00% GC)\n",
       "  maximum time:     93.498 ns (0.00% GC)\n",
       "  --------------\n",
       "  samples:          10000\n",
       "  evals/sample:     995"
      ]
     },
     "execution_count": 9,
     "metadata": {},
     "output_type": "execute_result"
    }
   ],
   "source": [
    "I = [i1, i2]\n",
    "@test eltype(I) === typeof(i1) === typeof(i2)\n",
    "y = zeros(2)\n",
    "@benchmark $y .= foo.($I, 2.0)"
   ]
  },
  {
   "cell_type": "markdown",
   "metadata": {},
   "source": [
    "### Retrieving Arguments\n",
    "\n",
    "The `FooInterface` type stores the function pointers used in its interface as well as the arguments which were used to construct it:"
   ]
  },
  {
   "cell_type": "code",
   "execution_count": 10,
   "metadata": {},
   "outputs": [
    {
     "data": {
      "text/plain": [
       "\u001b[1m\u001b[32mTest Passed\u001b[39m\u001b[22m"
      ]
     },
     "execution_count": 10,
     "metadata": {},
     "output_type": "execute_result"
    }
   ],
   "source": [
    "@test FooInterface(b).self === b"
   ]
  },
  {
   "cell_type": "markdown",
   "metadata": {},
   "source": [
    "And the function pointers themselves can also be directly accessed:"
   ]
  },
  {
   "cell_type": "code",
   "execution_count": 11,
   "metadata": {},
   "outputs": [
    {
     "data": {
      "text/plain": [
       "\u001b[1m\u001b[32mTest Passed\u001b[39m\u001b[22m"
      ]
     },
     "execution_count": 11,
     "metadata": {},
     "output_type": "execute_result"
    }
   ],
   "source": [
    "i1 = FooInterface(b)\n",
    "@test i1.foo(2.0) === foo(i1, 2.0) === 3.0"
   ]
  },
  {
   "cell_type": "markdown",
   "metadata": {},
   "source": [
    "## More Complex Interfaces\n",
    "\n",
    "An interface can have multiple methods:"
   ]
  },
  {
   "cell_type": "code",
   "execution_count": 12,
   "metadata": {},
   "outputs": [
    {
     "data": {
      "text/plain": [
       "\u001b[1m\u001b[32mTest Passed\u001b[39m\u001b[22m"
      ]
     },
     "execution_count": 12,
     "metadata": {},
     "output_type": "execute_result"
    }
   ],
   "source": [
    "@interface FooAndXInterface(self::A) begin\n",
    "    foo(y::Float64)::Float64 = foo(self, y)\n",
    "    getx()::Float64 = convert(Float64, self.x)\n",
    "end\n",
    "\n",
    "i3 = FooAndXInterface(b)\n",
    "@test getx(i3) === convert(Float64, b.x)"
   ]
  },
  {
   "cell_type": "markdown",
   "metadata": {},
   "source": [
    "### Parametric Interfaces\n",
    "\n",
    "And an interface can also have type parameters:"
   ]
  },
  {
   "cell_type": "code",
   "execution_count": 13,
   "metadata": {},
   "outputs": [
    {
     "data": {
      "text/plain": [
       "\u001b[1m\u001b[32mTest Passed\u001b[39m\u001b[22m"
      ]
     },
     "execution_count": 13,
     "metadata": {},
     "output_type": "execute_result"
    }
   ],
   "source": [
    "@interface ParametricFooInterface{T}(self::A) begin\n",
    "    foo(y::T)::T = foo(self, y)\n",
    "end\n",
    "\n",
    "i4 = ParametricFooInterface{Complex{Float64}}(b)\n",
    "@test @inferred(foo(i4, 1.0 + 0.5im)) === 2.0 + 0.5im"
   ]
  },
  {
   "cell_type": "markdown",
   "metadata": {},
   "source": [
    "### Computed Interfaces\n",
    "\n",
    "The interface's return types can even be computed functions of the input types:"
   ]
  },
  {
   "cell_type": "code",
   "execution_count": 14,
   "metadata": {},
   "outputs": [
    {
     "data": {
      "text/plain": [
       "\u001b[1m\u001b[32mTest Passed\u001b[39m\u001b[22m"
      ]
     },
     "execution_count": 14,
     "metadata": {},
     "output_type": "execute_result"
    }
   ],
   "source": [
    "@interface ComputedFooInterface{T}(self::A) begin\n",
    "    foo(y::T)::Base.promote_op(+, T, Float64) = foo(self, y)\n",
    "end\n",
    "\n",
    "i5 = ComputedFooInterface{Int}(b)\n",
    "@test @inferred(foo(i5, 2)) === 3.0"
   ]
  }
 ],
 "metadata": {
  "kernelspec": {
   "display_name": "Julia 0.6.3",
   "language": "julia",
   "name": "julia-0.6"
  },
  "language_info": {
   "file_extension": ".jl",
   "mimetype": "application/julia",
   "name": "julia",
   "version": "0.6.3"
  }
 },
 "nbformat": 4,
 "nbformat_minor": 2
}
