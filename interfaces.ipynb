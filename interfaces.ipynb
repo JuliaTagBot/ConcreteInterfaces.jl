{
 "cells": [
  {
   "cell_type": "code",
   "execution_count": 24,
   "metadata": {
    "collapsed": true
   },
   "outputs": [],
   "source": [
    "using BenchmarkTools"
   ]
  },
  {
   "cell_type": "code",
   "execution_count": 146,
   "metadata": {},
   "outputs": [
    {
     "name": "stderr",
     "output_type": "stream",
     "text": [
      "WARNING: replacing module Ifc\n"
     ]
    },
    {
     "data": {
      "text/plain": [
       "Ifc"
      ]
     },
     "execution_count": 146,
     "metadata": {},
     "output_type": "execute_result"
    }
   ],
   "source": [
    "module Ifc\n",
    "\n",
    "using ComputedFieldTypes\n",
    "using FunctionWrappers: FunctionWrapper\n",
    "\n",
    "# Using an abstract parent type isn't necessary for this to work, \n",
    "# but I suspect it's something we'll often want to do\n",
    "abstract type A end\n",
    "\n",
    "struct B <: A\n",
    "    x::Int\n",
    "end\n",
    "\n",
    "struct C <: A\n",
    "    x::Float64\n",
    "end\n",
    "\n",
    "foo(a::A, y) = a.x + y\n",
    "\n",
    "# This is the syntax I want to use eventually:\n",
    "#=\n",
    "@interface Foo{T} self::A begin\n",
    "    foo(y::T)::T = self.x + y\n",
    "end\n",
    "=#\n",
    "# The ComputedFieldTypes package also means that the return\n",
    "# type of an interface method can be a computed type, like this:\n",
    "#=\n",
    "@interface Foo{T} self::A begin\n",
    "    foo(y::T)::promote_op(+, Float64, T) = self.x + y\n",
    "end\n",
    "=#\n",
    "\n",
    "# And the hypothetical `@interface` macro will produce something\n",
    "# like the following:\n",
    "@computed struct Foo{T}\n",
    "    self::A\n",
    "    foo::FunctionWrapper{Base.promote_op(+, Float64, T), Tuple{T}}\n",
    "\n",
    "    Foo{T}(self) where {T} = new(self, y -> self.x + y)\n",
    "end\n",
    "foo(f::Foo{T}, y::T) where {T} = f.foo(y)\n",
    "\n",
    "end"
   ]
  },
  {
   "cell_type": "code",
   "execution_count": 147,
   "metadata": {},
   "outputs": [
    {
     "data": {
      "text/plain": [
       "2-element Array{Ifc.A,1}:\n",
       " Ifc.B(1)  \n",
       " Ifc.C(2.0)"
      ]
     },
     "execution_count": 147,
     "metadata": {},
     "output_type": "execute_result"
    }
   ],
   "source": [
    "# Demo\n",
    "b = Ifc.B(1)\n",
    "c = Ifc.C(2.0)\n",
    "x_abstract = [b, c]"
   ]
  },
  {
   "cell_type": "code",
   "execution_count": 148,
   "metadata": {},
   "outputs": [
    {
     "data": {
      "text/plain": [
       "BenchmarkTools.Trial: \n",
       "  memory estimate:  80 bytes\n",
       "  allocs estimate:  5\n",
       "  --------------\n",
       "  minimum time:     647.091 ns (0.00% GC)\n",
       "  median time:      662.808 ns (0.00% GC)\n",
       "  mean time:        732.005 ns (0.82% GC)\n",
       "  maximum time:     14.280 μs (90.70% GC)\n",
       "  --------------\n",
       "  samples:          10000\n",
       "  evals/sample:     164"
      ]
     },
     "execution_count": 148,
     "metadata": {},
     "output_type": "execute_result"
    }
   ],
   "source": [
    "# The vector x_abstract has non-concrete type, so broadcast is slow:\n",
    "y = zeros(2)\n",
    "@benchmark $y .= Ifc.foo.($x_abstract, 2.0)"
   ]
  },
  {
   "cell_type": "code",
   "execution_count": 154,
   "metadata": {},
   "outputs": [
    {
     "data": {
      "text/plain": [
       "Ifc.Foo{Float64,Float64}"
      ]
     },
     "execution_count": 154,
     "metadata": {},
     "output_type": "execute_result"
    }
   ],
   "source": [
    "# Instead, we can create an array of Foo interfaces:\n",
    "x_interface = Ifc.Foo{Float64}.([b, c])\n",
    "\n",
    "# The eltype of x_interface includes the (inferred) Float64\n",
    "# return type:\n",
    "eltype(x_interface)"
   ]
  },
  {
   "cell_type": "code",
   "execution_count": 155,
   "metadata": {},
   "outputs": [
    {
     "data": {
      "text/plain": [
       "BenchmarkTools.Trial: \n",
       "  memory estimate:  0 bytes\n",
       "  allocs estimate:  0\n",
       "  --------------\n",
       "  minimum time:     33.937 ns (0.00% GC)\n",
       "  median time:      34.096 ns (0.00% GC)\n",
       "  mean time:        35.244 ns (0.00% GC)\n",
       "  maximum time:     163.404 ns (0.00% GC)\n",
       "  --------------\n",
       "  samples:          10000\n",
       "  evals/sample:     993"
      ]
     },
     "execution_count": 155,
     "metadata": {},
     "output_type": "execute_result"
    }
   ],
   "source": [
    "# Calling the interface's methods is much faster:\n",
    "y = zeros(2)\n",
    "@benchmark $y .= Ifc.foo.($x_interface, 2.0)"
   ]
  },
  {
   "cell_type": "code",
   "execution_count": 156,
   "metadata": {},
   "outputs": [
    {
     "data": {
      "text/plain": [
       "BenchmarkTools.Trial: \n",
       "  memory estimate:  0 bytes\n",
       "  allocs estimate:  0\n",
       "  --------------\n",
       "  minimum time:     10.060 ns (0.00% GC)\n",
       "  median time:      10.148 ns (0.00% GC)\n",
       "  mean time:        10.273 ns (0.00% GC)\n",
       "  maximum time:     20.380 ns (0.00% GC)\n",
       "  --------------\n",
       "  samples:          10000\n",
       "  evals/sample:     999"
      ]
     },
     "execution_count": 156,
     "metadata": {},
     "output_type": "execute_result"
    }
   ],
   "source": [
    "# Note that there's still some unavoidable overhead,\n",
    "# probably due to the lack of inlining, so converting\n",
    "# x to a vector of floats will still be faster:\n",
    "y = zeros(2)\n",
    "x_float = [1.0, 2.0]\n",
    "@benchmark $y .= (+).($x_float, 2.0)"
   ]
  },
  {
   "cell_type": "code",
   "execution_count": null,
   "metadata": {
    "collapsed": true
   },
   "outputs": [],
   "source": []
  }
 ],
 "metadata": {
  "kernelspec": {
   "display_name": "Julia 0.6.0",
   "language": "julia",
   "name": "julia-0.6"
  },
  "language_info": {
   "file_extension": ".jl",
   "mimetype": "application/julia",
   "name": "julia",
   "version": "0.6.0"
  }
 },
 "nbformat": 4,
 "nbformat_minor": 2
}
