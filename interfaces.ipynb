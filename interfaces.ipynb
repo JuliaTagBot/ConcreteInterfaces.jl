{
 "cells": [
  {
   "cell_type": "code",
   "execution_count": 24,
   "metadata": {
    "collapsed": true
   },
   "outputs": [],
   "source": [
    "using BenchmarkTools"
   ]
  },
  {
   "cell_type": "code",
   "execution_count": 131,
   "metadata": {},
   "outputs": [
    {
     "name": "stderr",
     "output_type": "stream",
     "text": [
      "WARNING: replacing module Ifc\n"
     ]
    },
    {
     "data": {
      "text/plain": [
       "Ifc"
      ]
     },
     "execution_count": 131,
     "metadata": {},
     "output_type": "execute_result"
    }
   ],
   "source": [
    "module Ifc\n",
    "\n",
    "using ComputedFieldTypes\n",
    "using FunctionWrappers: FunctionWrapper\n",
    "\n",
    "# Using an abstract parent type isn't necessary for this to work, \n",
    "# but I suspect it's something we'll often want to do\n",
    "abstract type A end\n",
    "\n",
    "struct B <: A\n",
    "    x::Int\n",
    "end\n",
    "\n",
    "struct C <: A\n",
    "    x::Float64\n",
    "end\n",
    "\n",
    "foo(a::A, y) = a.x + y\n",
    "\n",
    "# This is the syntax I want to use eventually:\n",
    "#=\n",
    "@interface Foo{T} self::A begin\n",
    "    foo(y::T)::Base.promote_op(+, Float64, T) = self.x + y\n",
    "end\n",
    "=#\n",
    "\n",
    "# And the hypothetical `@interface` macro will produce something\n",
    "# like the following:\n",
    "@computed struct Foo{T}\n",
    "    self::A\n",
    "    foo::FunctionWrapper{Base.promote_op(+, Float64, T), Tuple{T}}\n",
    "\n",
    "    Foo{T}(self) where {T} = new(self, y -> self.x + y)\n",
    "end\n",
    "foo(f::Foo{T}, y::T) where {T} = f.foo(y)\n",
    "\n",
    "end"
   ]
  },
  {
   "cell_type": "code",
   "execution_count": 140,
   "metadata": {},
   "outputs": [
    {
     "data": {
      "text/plain": [
       "2-element Array{Ifc.A,1}:\n",
       " Ifc.B(1)  \n",
       " Ifc.C(2.0)"
      ]
     },
     "execution_count": 140,
     "metadata": {},
     "output_type": "execute_result"
    }
   ],
   "source": [
    "# Demo\n",
    "b = Ifc.B(1)\n",
    "c = Ifc.C(2.0)\n",
    "x_abstract = [b, c]"
   ]
  },
  {
   "cell_type": "code",
   "execution_count": 141,
   "metadata": {},
   "outputs": [
    {
     "data": {
      "text/plain": [
       "BenchmarkTools.Trial: \n",
       "  memory estimate:  80 bytes\n",
       "  allocs estimate:  5\n",
       "  --------------\n",
       "  minimum time:     643.712 ns (0.00% GC)\n",
       "  median time:      668.794 ns (0.00% GC)\n",
       "  mean time:        766.344 ns (0.86% GC)\n",
       "  maximum time:     17.130 μs (90.36% GC)\n",
       "  --------------\n",
       "  samples:          10000\n",
       "  evals/sample:     163"
      ]
     },
     "execution_count": 141,
     "metadata": {},
     "output_type": "execute_result"
    }
   ],
   "source": [
    "# The vector x_abstract has non-concrete type, so broadcast is slow:\n",
    "y = zeros(2)\n",
    "@benchmark $y .= Ifc.foo.($x_abstract, 2.0)"
   ]
  },
  {
   "cell_type": "code",
   "execution_count": 142,
   "metadata": {},
   "outputs": [
    {
     "data": {
      "text/plain": [
       "2-element Array{Ifc.Foo{Float64,Float64},1}:\n",
       " Ifc.Foo{Float64,Float64}(Ifc.B(1), FunctionWrappers.FunctionWrapper{Float64,Tuple{Float64}}(Ptr{Void} @0x000000012df313a0, Ptr{Void} @0x0000000128bbf710, Base.RefValue{Ifc.##1#2{Ifc.B}}(Ifc.#1), Ifc.##1#2{Ifc.B}))  \n",
       " Ifc.Foo{Float64,Float64}(Ifc.C(2.0), FunctionWrappers.FunctionWrapper{Float64,Tuple{Float64}}(Ptr{Void} @0x000000012df317c0, Ptr{Void} @0x0000000128bbf730, Base.RefValue{Ifc.##1#2{Ifc.C}}(Ifc.#1), Ifc.##1#2{Ifc.C}))"
      ]
     },
     "execution_count": 142,
     "metadata": {},
     "output_type": "execute_result"
    }
   ],
   "source": [
    "# Instead, we can create an array of Foo interfaces:\n",
    "x_interface = Ifc.Foo{Float64}.([b, c])"
   ]
  },
  {
   "cell_type": "code",
   "execution_count": 143,
   "metadata": {},
   "outputs": [
    {
     "data": {
      "text/plain": [
       "BenchmarkTools.Trial: \n",
       "  memory estimate:  0 bytes\n",
       "  allocs estimate:  0\n",
       "  --------------\n",
       "  minimum time:     32.700 ns (0.00% GC)\n",
       "  median time:      33.698 ns (0.00% GC)\n",
       "  mean time:        36.442 ns (0.00% GC)\n",
       "  maximum time:     314.884 ns (0.00% GC)\n",
       "  --------------\n",
       "  samples:          10000\n",
       "  evals/sample:     993"
      ]
     },
     "execution_count": 143,
     "metadata": {},
     "output_type": "execute_result"
    }
   ],
   "source": [
    "# Calling the interface's methods is much faster:\n",
    "y = zeros(2)\n",
    "@benchmark $y .= Ifc.foo.($x_interface, 2.0)"
   ]
  },
  {
   "cell_type": "code",
   "execution_count": 145,
   "metadata": {},
   "outputs": [
    {
     "data": {
      "text/plain": [
       "BenchmarkTools.Trial: \n",
       "  memory estimate:  0 bytes\n",
       "  allocs estimate:  0\n",
       "  --------------\n",
       "  minimum time:     10.867 ns (0.00% GC)\n",
       "  median time:      11.178 ns (0.00% GC)\n",
       "  mean time:        11.467 ns (0.00% GC)\n",
       "  maximum time:     66.787 ns (0.00% GC)\n",
       "  --------------\n",
       "  samples:          10000\n",
       "  evals/sample:     999"
      ]
     },
     "execution_count": 145,
     "metadata": {},
     "output_type": "execute_result"
    }
   ],
   "source": [
    "# Note that there's still some unavoidable overhead,\n",
    "# probably due to the lack of inlining, so converting\n",
    "# x to a vector of floats will still be faster:\n",
    "y = zeros(2)\n",
    "x_float = [1.0, 2.0]\n",
    "@benchmark $y .= (+).($x_float, 2.0)"
   ]
  },
  {
   "cell_type": "code",
   "execution_count": null,
   "metadata": {
    "collapsed": true
   },
   "outputs": [],
   "source": []
  }
 ],
 "metadata": {
  "kernelspec": {
   "display_name": "Julia 0.6.0",
   "language": "julia",
   "name": "julia-0.6"
  },
  "language_info": {
   "file_extension": ".jl",
   "mimetype": "application/julia",
   "name": "julia",
   "version": "0.6.0"
  }
 },
 "nbformat": 4,
 "nbformat_minor": 2
}
